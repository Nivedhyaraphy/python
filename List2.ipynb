{
  "nbformat": 4,
  "nbformat_minor": 0,
  "metadata": {
    "colab": {
      "provenance": [],
      "authorship_tag": "ABX9TyPQUvlIKlrzzr2GOArzyBjH",
      "include_colab_link": true
    },
    "kernelspec": {
      "name": "python3",
      "display_name": "Python 3"
    },
    "language_info": {
      "name": "python"
    }
  },
  "cells": [
    {
      "cell_type": "markdown",
      "metadata": {
        "id": "view-in-github",
        "colab_type": "text"
      },
      "source": [
        "<a href=\"https://colab.research.google.com/github/Nivedhyaraphy/python/blob/main/List2.ipynb\" target=\"_parent\"><img src=\"https://colab.research.google.com/assets/colab-badge.svg\" alt=\"Open In Colab\"/></a>"
      ]
    },
    {
      "cell_type": "code",
      "execution_count": 37,
      "metadata": {
        "id": "WC9n4xQhDlTK"
      },
      "outputs": [],
      "source": [
        "x=['nivedhya',27,18,'22-06-2004','chiyyaram']"
      ]
    },
    {
      "cell_type": "code",
      "source": [
        "x"
      ],
      "metadata": {
        "colab": {
          "base_uri": "https://localhost:8080/"
        },
        "id": "uN4wSxcPGIZs",
        "outputId": "62dc326d-36ed-4b84-9e4a-8800a217a014"
      },
      "execution_count": 38,
      "outputs": [
        {
          "output_type": "execute_result",
          "data": {
            "text/plain": [
              "['nivedhya', 27, 18, '22-06-2004', 'chiyyaram']"
            ]
          },
          "metadata": {},
          "execution_count": 38
        }
      ]
    },
    {
      "cell_type": "code",
      "source": [
        "x[0]"
      ],
      "metadata": {
        "colab": {
          "base_uri": "https://localhost:8080/",
          "height": 35
        },
        "id": "b6pFLurdGsOU",
        "outputId": "b0ce08fb-dbbd-4869-a55a-62ddf9a23fcc"
      },
      "execution_count": 39,
      "outputs": [
        {
          "output_type": "execute_result",
          "data": {
            "text/plain": [
              "'nivedhya'"
            ],
            "application/vnd.google.colaboratory.intrinsic+json": {
              "type": "string"
            }
          },
          "metadata": {},
          "execution_count": 39
        }
      ]
    },
    {
      "cell_type": "code",
      "source": [
        "x[3]"
      ],
      "metadata": {
        "colab": {
          "base_uri": "https://localhost:8080/",
          "height": 35
        },
        "id": "-GbNgzNyICy6",
        "outputId": "755ae849-208c-4fe7-d4b3-cd713f02d711"
      },
      "execution_count": 40,
      "outputs": [
        {
          "output_type": "execute_result",
          "data": {
            "text/plain": [
              "'22-06-2004'"
            ],
            "application/vnd.google.colaboratory.intrinsic+json": {
              "type": "string"
            }
          },
          "metadata": {},
          "execution_count": 40
        }
      ]
    },
    {
      "cell_type": "code",
      "source": [
        "x.append('thrissur')"
      ],
      "metadata": {
        "id": "ky_GYGtKIIdS"
      },
      "execution_count": 41,
      "outputs": []
    },
    {
      "cell_type": "code",
      "source": [
        "print(x)"
      ],
      "metadata": {
        "colab": {
          "base_uri": "https://localhost:8080/"
        },
        "id": "tKrIgN6rI5_a",
        "outputId": "4a34c2d2-93d8-4033-f845-db1e7d54597b"
      },
      "execution_count": 42,
      "outputs": [
        {
          "output_type": "stream",
          "name": "stdout",
          "text": [
            "['nivedhya', 27, 18, '22-06-2004', 'chiyyaram', 'thrissur']\n"
          ]
        }
      ]
    },
    {
      "cell_type": "code",
      "source": [
        " x.insert(1,'kerala')"
      ],
      "metadata": {
        "id": "KgJJe1v8JCP2"
      },
      "execution_count": 43,
      "outputs": []
    },
    {
      "cell_type": "code",
      "source": [
        "x"
      ],
      "metadata": {
        "colab": {
          "base_uri": "https://localhost:8080/"
        },
        "id": "U2Faxts6J9wC",
        "outputId": "c879a93a-3415-476a-b4d0-01e86fe039a4"
      },
      "execution_count": 44,
      "outputs": [
        {
          "output_type": "execute_result",
          "data": {
            "text/plain": [
              "['nivedhya', 'kerala', 27, 18, '22-06-2004', 'chiyyaram', 'thrissur']"
            ]
          },
          "metadata": {},
          "execution_count": 44
        }
      ]
    },
    {
      "cell_type": "code",
      "source": [
        "x=int(input('enter a mark'))\n",
        "if x>=50:\n",
        "  print('pass')\n",
        "else: \n",
        "  print('fail')  "
      ],
      "metadata": {
        "colab": {
          "base_uri": "https://localhost:8080/"
        },
        "id": "xaTpyv6-KILq",
        "outputId": "c35c0edb-40ee-4d15-a04f-7961544efbde"
      },
      "execution_count": 45,
      "outputs": [
        {
          "output_type": "stream",
          "name": "stdout",
          "text": [
            "enter a mark67\n",
            "pass\n"
          ]
        }
      ]
    },
    {
      "cell_type": "code",
      "source": [
        "x=['aneenaa','cristeena','abhirami','donald','aadhil']"
      ],
      "metadata": {
        "id": "ycfFrPzsOSGh"
      },
      "execution_count": 46,
      "outputs": []
    },
    {
      "cell_type": "code",
      "source": [
        "x.append('syam')"
      ],
      "metadata": {
        "id": "EgOKSyhmQb6Z"
      },
      "execution_count": 47,
      "outputs": []
    },
    {
      "cell_type": "code",
      "source": [
        "x"
      ],
      "metadata": {
        "colab": {
          "base_uri": "https://localhost:8080/"
        },
        "id": "Xo0ZR-PnQeVB",
        "outputId": "c694a610-80f6-4aaa-abf4-6d733cc28940"
      },
      "execution_count": 48,
      "outputs": [
        {
          "output_type": "execute_result",
          "data": {
            "text/plain": [
              "['aneenaa', 'cristeena', 'abhirami', 'donald', 'aadhil', 'syam']"
            ]
          },
          "metadata": {},
          "execution_count": 48
        }
      ]
    },
    {
      "cell_type": "code",
      "source": [
        "\n",
        "x.append (input('please enter a name'))\n",
        "x\n"
      ],
      "metadata": {
        "colab": {
          "base_uri": "https://localhost:8080/"
        },
        "id": "eevQfRWlaI3A",
        "outputId": "f706d1fb-7280-4c81-eaa8-f6883bc531b3"
      },
      "execution_count": 49,
      "outputs": [
        {
          "name": "stdout",
          "output_type": "stream",
          "text": [
            "please enter a nameyadhu\n"
          ]
        },
        {
          "output_type": "execute_result",
          "data": {
            "text/plain": [
              "['aneenaa', 'cristeena', 'abhirami', 'donald', 'aadhil', 'syam', 'yadhu']"
            ]
          },
          "metadata": {},
          "execution_count": 49
        }
      ]
    },
    {
      "cell_type": "code",
      "source": [
        "x.insert(6,'syam')"
      ],
      "metadata": {
        "id": "05bl89PZbYxb"
      },
      "execution_count": 51,
      "outputs": []
    },
    {
      "cell_type": "code",
      "source": [
        "x"
      ],
      "metadata": {
        "colab": {
          "base_uri": "https://localhost:8080/"
        },
        "id": "r-ec1nlkc-o3",
        "outputId": "cc3ee4f2-cfa4-4e99-a168-2ca17daeff46"
      },
      "execution_count": 52,
      "outputs": [
        {
          "output_type": "execute_result",
          "data": {
            "text/plain": [
              "['aneenaa',\n",
              " 'cristeena',\n",
              " 'abhirami',\n",
              " 'donald',\n",
              " 'aadhil',\n",
              " 'syam',\n",
              " 'syam',\n",
              " 'yadhu']"
            ]
          },
          "metadata": {},
          "execution_count": 52
        }
      ]
    },
    {
      "cell_type": "code",
      "source": [
        "x=[' ']\n",
        "x=['abhi','cristy','aneena','donald','aadhil']"
      ],
      "metadata": {
        "id": "SoA1utWwdFo2"
      },
      "execution_count": 55,
      "outputs": []
    },
    {
      "cell_type": "code",
      "source": [
        "x"
      ],
      "metadata": {
        "colab": {
          "base_uri": "https://localhost:8080/"
        },
        "id": "ApOkxEHSfric",
        "outputId": "6c345c9d-90cc-4ab3-9558-91756e3e9642"
      },
      "execution_count": 56,
      "outputs": [
        {
          "output_type": "execute_result",
          "data": {
            "text/plain": [
              "['abhi', 'cristy', 'aneena', 'donald', 'aadhil']"
            ]
          },
          "metadata": {},
          "execution_count": 56
        }
      ]
    },
    {
      "cell_type": "code",
      "source": [
        "y=input('enter a name')\n",
        "x.insert(int(input('enter a number')),y)\n",
        "print(x)\n"
      ],
      "metadata": {
        "colab": {
          "base_uri": "https://localhost:8080/"
        },
        "id": "HXQWYIjvgYXG",
        "outputId": "69d33ed1-135b-4f7b-c013-dd9beae74e07"
      },
      "execution_count": 57,
      "outputs": [
        {
          "output_type": "stream",
          "name": "stdout",
          "text": [
            "enter a namebilny\n",
            "enter a number45\n",
            "['abhi', 'cristy', 'aneena', 'donald', 'aadhil', 'bilny']\n"
          ]
        }
      ]
    },
    {
      "cell_type": "code",
      "source": [],
      "metadata": {
        "id": "f5r4EEuZg5Gm"
      },
      "execution_count": 57,
      "outputs": []
    }
  ]
}